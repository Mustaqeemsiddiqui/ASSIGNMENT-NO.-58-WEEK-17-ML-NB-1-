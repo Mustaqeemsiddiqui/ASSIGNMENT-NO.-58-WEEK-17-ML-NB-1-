{
 "cells": [
  {
   "cell_type": "markdown",
   "id": "ea6ee158-65a0-4e0f-a5b0-0cd363a4ba33",
   "metadata": {},
   "source": [
    "**Q1. What is Bayes' theorem?**"
   ]
  },
  {
   "cell_type": "markdown",
   "id": "d75cc4fa-bb8f-4ba8-ace3-76e487b7f10f",
   "metadata": {},
   "source": [
    "**ANSWER:-------**\n",
    "\n",
    "\n",
    "Bayes' theorem is a fundamental theorem in probability theory that describes the probability of an event based on prior knowledge or conditions related to the event. It is named after the Reverend Thomas Bayes and is mathematically expressed as:\n",
    "\n",
    "\\[ P(A | B) = \\frac{P(B | A) \\cdot P(A)}{P(B)} \\]\n",
    "\n",
    "Where:\n",
    "- \\( P(A | B) \\) is the conditional probability of event A occurring given that B is true.\n",
    "- \\( P(B | A) \\) is the conditional probability of event B occurring given that A is true.\n",
    "- \\( P(A) \\) and \\( P(B) \\) are the probabilities of A and B occurring independently of each other.\n",
    "\n",
    "Bayes' theorem is particularly useful in statistics and machine learning for updating beliefs or hypotheses about the likelihood of an event based on new evidence or data."
   ]
  },
  {
   "cell_type": "markdown",
   "id": "96a4c4d7-7370-4c07-a347-4337c16c7251",
   "metadata": {},
   "source": [
    "**Q2. What is the formula for Bayes' theorem?**"
   ]
  },
  {
   "cell_type": "markdown",
   "id": "190890ae-9510-4692-9686-dbfc21135d0b",
   "metadata": {},
   "source": [
    "**ANSWER:-------**\n",
    "\n",
    "\n",
    "The formula for Bayes' theorem is:\n",
    "\n",
    "\\[ P(A | B) = \\frac{P(B | A) \\cdot P(A)}{P(B)} \\]\n",
    "\n",
    "Where:\n",
    "- \\( P(A | B) \\) is the conditional probability of event A occurring given that B is true.\n",
    "- \\( P(B | A) \\) is the conditional probability of event B occurring given that A is true.\n",
    "- \\( P(A) \\) and \\( P(B) \\) are the probabilities of A and B occurring independently of each other.\n",
    "\n",
    "This theorem is essential in probabilistic reasoning and inference, allowing one to update the probability of an event based on new evidence or prior knowledge."
   ]
  },
  {
   "cell_type": "markdown",
   "id": "9baffbbf-aef2-49dd-b059-22b87c8b2adb",
   "metadata": {},
   "source": [
    "**Q3. How is Bayes' theorem used in practice?**"
   ]
  },
  {
   "cell_type": "markdown",
   "id": "bbdb7022-5305-4ebd-b11f-f2bcac8a00bb",
   "metadata": {},
   "source": [
    "**ANSWER:-------**\n",
    "\n",
    "\n",
    "Bayes' theorem is used in practice in various fields such as statistics, machine learning, and everyday decision-making scenarios. Here are some practical applications:\n",
    "\n",
    "1. **Medical Diagnosis**: Bayes' theorem helps calculate the probability of a disease given certain symptoms. Doctors can update their diagnosis based on new test results and prior probabilities of diseases.\n",
    "\n",
    "2. **Spam Filtering**: Email spam filters use Bayesian techniques to classify emails as spam or not spam based on the presence of certain words or patterns. The filter calculates the probability that an email is spam given its content.\n",
    "\n",
    "3. **Document Classification**: In natural language processing, Bayes' theorem is used in naive Bayes classifiers to categorize documents based on the occurrence of words and their probabilities in different categories.\n",
    "\n",
    "4. **Risk Assessment**: Bayes' theorem is employed in assessing risks and making decisions under uncertainty. It helps update the probability of a risk occurring based on new information or data.\n",
    "\n",
    "5. **Quality Control**: In manufacturing, Bayes' theorem can be used to estimate the probability that a product meets certain quality standards based on prior production data and testing results.\n",
    "\n",
    "6. **Weather Forecasting**: Bayesian techniques are used in weather forecasting to update predictions based on current weather conditions and historical data.\n",
    "\n",
    "In essence, Bayes' theorem provides a systematic way to update beliefs or probabilities based on new evidence, making it a powerful tool in decision-making and inference tasks across various disciplines."
   ]
  },
  {
   "cell_type": "markdown",
   "id": "3c8c3ae6-7338-49bd-84cb-a2e651c5fa8d",
   "metadata": {},
   "source": [
    "**Q4. What is the relationship between Bayes' theorem and conditional probability?**"
   ]
  },
  {
   "cell_type": "markdown",
   "id": "b03887dc-162c-4c51-b083-61b700ceada8",
   "metadata": {},
   "source": [
    "**ANSWER:-------**\n",
    "\n",
    "\n",
    "Bayes' theorem is fundamentally related to conditional probability. Conditional probability is the probability of an event occurring given that another event has already occurred. Bayes' theorem provides a way to reverse this conditional probability to find the probability of the event that initially seems dependent (or given) in the context of a different event or condition.\n",
    "\n",
    "In mathematical terms, Bayes' theorem expresses the conditional probability \\( P(A | B) \\) in terms of \\( P(B | A) \\), \\( P(A) \\), and \\( P(B) \\):\n",
    "\n",
    "\\[ P(A | B) = \\frac{P(B | A) \\cdot P(A)}{P(B)} \\]\n",
    "\n",
    "Here's the breakdown of terms related to conditional probability:\n",
    "\n",
    "- \\( P(A | B) \\): Conditional probability of event A occurring given that event B has occurred.\n",
    "- \\( P(B | A) \\): Conditional probability of event B occurring given that event A has occurred.\n",
    "- \\( P(A) \\): Probability of event A occurring independently.\n",
    "- \\( P(B) \\): Probability of event B occurring independently.\n",
    "\n",
    "Bayes' theorem is a powerful tool because it allows us to update or revise the probability of \\( A \\) given \\( B \\) (i.e., \\( P(A | B) \\)) based on prior knowledge of \\( P(A) \\), \\( P(B | A) \\), and \\( P(B) \\). This relationship between Bayes' theorem and conditional probability is essential in probabilistic reasoning, statistics, machine learning, and various decision-making processes where updating beliefs or probabilities based on new evidence is crucial."
   ]
  },
  {
   "cell_type": "markdown",
   "id": "f761114f-f5dc-4ac0-a95a-6fcf36ea168e",
   "metadata": {},
   "source": [
    "**Q5. How do you choose which type of Naive Bayes classifier to use for any given problem?**"
   ]
  },
  {
   "cell_type": "markdown",
   "id": "70cdbb21-0357-4686-aff0-ca6134fecc13",
   "metadata": {},
   "source": [
    "**ANSWER:-------**\n",
    "\n",
    "\n",
    "Choosing the type of Naive Bayes classifier depends on the nature of your data and the assumptions you can reasonably make about it. Here are some considerations for selecting the appropriate Naive Bayes classifier:\n",
    "\n",
    "1. **Gaussian Naive Bayes**:\n",
    "   - **Data Type**: Suitable for continuous or numerical data where features follow a Gaussian (normal) distribution.\n",
    "   - **Assumption**: Assumes that features are normally distributed within each class.\n",
    "\n",
    "2. **Multinomial Naive Bayes**:\n",
    "   - **Data Type**: Typically used for text classification tasks where features represent the frequency of words or other discrete counts.\n",
    "   - **Assumption**: Assumes features are counts that follow a multinomial distribution.\n",
    "\n",
    "3. **Bernoulli Naive Bayes**:\n",
    "   - **Data Type**: Suitable for binary or boolean features, where each feature represents presence or absence of a particular attribute.\n",
    "   - **Assumption**: Assumes features are binary-valued (0 or 1).\n",
    "\n",
    "To decide which type of Naive Bayes classifier to use:\n",
    "\n",
    "- **Understand Your Data**: Determine the type of features you have (continuous, discrete, binary).\n",
    "- **Evaluate Assumptions**: Assess whether the independence assumption of Naive Bayes holds reasonably well for your data. Despite its simplicity, Naive Bayes can perform well in practice even when the independence assumption is not strictly met, but this depends on the dataset.\n",
    "- **Domain Knowledge**: Consider domain-specific knowledge about the problem and the relationships between features.\n",
    "\n",
    "In practice, it's often beneficial to try multiple types of Naive Bayes classifiers and compare their performance using cross-validation or other evaluation methods suited to your specific application."
   ]
  },
  {
   "cell_type": "markdown",
   "id": "d81d0b43-9afc-43f6-addb-48473b4e06ee",
   "metadata": {},
   "source": [
    "**Q6. Assignment:**\n",
    "\n",
    "**You have a dataset with two features, X1 and X2, and two possible classes, A and B. You want to use Naive\n",
    "Bayes to classify a new instance with features X1 = 3 and X2 = 4. The following table shows the frequency of\n",
    "each feature value for each class:**\n",
    "\n",
    "| Class | X1=1 | X1=2 | X1=3 | X2=1 | X2=2 | X2=3 | X2=4 |\n",
    "|-------|------|------|------|------|------|------|------|\n",
    "| A     | 3    | 3    | 4    | 4    | 3    | 3    | 3    |\n",
    "| B     | 2    | 2    | 1    | 2    | 2    | 2    | 3    |\n",
    "\n",
    "\n",
    "\n",
    "**Assuming equal prior probabilities for each class, which class would Naive Bayes predict the new instance\n",
    "to belong to?**"
   ]
  },
  {
   "cell_type": "markdown",
   "id": "703b9750-957f-4e11-99a3-5fca30904791",
   "metadata": {},
   "source": [
    "**ANSWER:---------**\n",
    "\n",
    "\n",
    "\n",
    "To predict the class of the new instance with features \\( X1 = 3 \\) and \\( X2 = 4 \\) using Naive Bayes, we will calculate the posterior probabilities for each class \\( A \\) and \\( B \\) and then compare them.\n",
    "\n",
    "Given:\n",
    "- Prior probabilities \\( P(A) = P(B) = \\frac{1}{2} \\) (assuming equal priors for each class).\n",
    "\n",
    "We need to calculate \\( P(A | X1=3, X2=4) \\) and \\( P(B | X1=3, X2=4) \\) using Bayes' theorem:\n",
    "\n",
    "\\[ P(A | X1=3, X2=4) = \\frac{P(X1=3, X2=4 | A) \\cdot P(A)}{P(X1=3, X2=4)} \\]\n",
    "\n",
    "\\[ P(B | X1=3, X2=4) = \\frac{P(X1=3, X2=4 | B) \\cdot P(B)}{P(X1=3, X2=4)} \\]\n",
    "\n",
    "Since \\( P(X1=3, X2=4) \\) is the same for both classes and acts as a normalization factor, we can focus on calculating \\( P(X1=3, X2=4 | A) \\) and \\( P(X1=3, X2=4 | B) \\) based on the provided frequency table:\n",
    "\n",
    "For class \\( A \\):\n",
    "\\[ P(X1=3, X2=4 | A) = P(X1=3 | A) \\cdot P(X2=4 | A) \\]\n",
    "\\[ P(X1=3 | A) = \\frac{4}{13} \\] (from the table)\n",
    "\\[ P(X2=4 | A) = \\frac{3}{13} \\] (from the table)\n",
    "\n",
    "\\[ P(X1=3, X2=4 | A) = \\frac{4}{13} \\cdot \\frac{3}{13} = \\frac{12}{169} \\]\n",
    "\n",
    "For class \\( B \\):\n",
    "\\[ P(X1=3, X2=4 | B) = P(X1=3 | B) \\cdot P(X2=4 | B) \\]\n",
    "\\[ P(X1=3 | B) = \\frac{1}{9} \\] (from the table)\n",
    "\\[ P(X2=4 | B) = \\frac{3}{9} = \\frac{1}{3} \\] (from the table)\n",
    "\n",
    "\\[ P(X1=3, X2=4 | B) = \\frac{1}{9} \\cdot \\frac{1}{3} = \\frac{1}{27} \\]\n",
    "\n",
    "Now, calculate the posterior probabilities:\n",
    "\n",
    "For class \\( A \\):\n",
    "\\[ P(A | X1=3, X2=4) \\propto P(X1=3, X2=4 | A) \\cdot P(A) = \\frac{12}{169} \\cdot \\frac{1}{2} = \\frac{12}{338} \\]\n",
    "\n",
    "For class \\( B \\):\n",
    "\\[ P(B | X1=3, X2=4) \\propto P(X1=3, X2=4 | B) \\cdot P(B) = \\frac{1}{27} \\cdot \\frac{1}{2} = \\frac{1}{54} \\]\n",
    "\n",
    "Since \\( P(A | X1=3, X2=4) > P(B | X1=3, X2=4) \\), Naive Bayes would predict that the new instance with \\( X1 = 3 \\) and \\( X2 = 4 \\) belongs to class \\( A \\).\n",
    "\n",
    "Therefore, the predicted class using Naive Bayes for the new instance \\( X1 = 3, X2 = 4 \\) is **Class A**."
   ]
  },
  {
   "cell_type": "code",
   "execution_count": null,
   "id": "afbe2d83-5140-4b70-a75e-d4ca89f996f9",
   "metadata": {},
   "outputs": [],
   "source": []
  }
 ],
 "metadata": {
  "kernelspec": {
   "display_name": "Python 3 (ipykernel)",
   "language": "python",
   "name": "python3"
  },
  "language_info": {
   "codemirror_mode": {
    "name": "ipython",
    "version": 3
   },
   "file_extension": ".py",
   "mimetype": "text/x-python",
   "name": "python",
   "nbconvert_exporter": "python",
   "pygments_lexer": "ipython3",
   "version": "3.10.8"
  }
 },
 "nbformat": 4,
 "nbformat_minor": 5
}
